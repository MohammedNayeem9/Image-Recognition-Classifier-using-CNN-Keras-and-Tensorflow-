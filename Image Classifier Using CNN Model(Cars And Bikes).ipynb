{
 "cells": [
  {
   "cell_type": "code",
   "execution_count": 1,
   "id": "6a958b1d",
   "metadata": {},
   "outputs": [],
   "source": [
    "import tensorflow as tf\n",
    "from keras_preprocessing.image import ImageDataGenerator"
   ]
  },
  {
   "cell_type": "code",
   "execution_count": 2,
   "id": "4b5eea9f",
   "metadata": {},
   "outputs": [
    {
     "name": "stdout",
     "output_type": "stream",
     "text": [
      "Found 160 images belonging to 2 classes.\n"
     ]
    }
   ],
   "source": [
    "train_datagen = ImageDataGenerator(rescale = 1./255,\n",
    "                                   shear_range = 0.2,\n",
    "                                   zoom_range = 0.2,\n",
    "                                   horizontal_flip = True)\n",
    "training_set = train_datagen.flow_from_directory('C:/Users/ADMIN/OneDrive/Desktop/C&B/Training',\n",
    "                                                 target_size = (64, 64),\n",
    "                                                 batch_size = 16,\n",
    "                                                 class_mode = 'binary')"
   ]
  },
  {
   "cell_type": "code",
   "execution_count": 3,
   "id": "1a356cab",
   "metadata": {},
   "outputs": [
    {
     "name": "stdout",
     "output_type": "stream",
     "text": [
      "Found 40 images belonging to 2 classes.\n"
     ]
    }
   ],
   "source": [
    "test_datagen = ImageDataGenerator(rescale = 1./255)\n",
    "test_set = test_datagen.flow_from_directory('C:/Users/ADMIN/OneDrive/Desktop/C&B/Testing',\n",
    "                                            target_size = (64, 64),\n",
    "                                            batch_size = 16,\n",
    "                                            class_mode = 'binary')"
   ]
  },
  {
   "cell_type": "code",
   "execution_count": 4,
   "id": "fbbc1943",
   "metadata": {},
   "outputs": [],
   "source": [
    "cnn = tf.keras.models.Sequential()"
   ]
  },
  {
   "cell_type": "code",
   "execution_count": 5,
   "id": "d196b5b9",
   "metadata": {},
   "outputs": [],
   "source": [
    "cnn.add(tf.keras.layers.Conv2D(filters=16, kernel_size=3, activation='relu', input_shape=[64, 64, 3]))"
   ]
  },
  {
   "cell_type": "code",
   "execution_count": 6,
   "id": "15478eca",
   "metadata": {},
   "outputs": [],
   "source": [
    "cnn.add(tf.keras.layers.MaxPool2D(pool_size=2, strides=2))"
   ]
  },
  {
   "cell_type": "code",
   "execution_count": 7,
   "id": "5ca29086",
   "metadata": {},
   "outputs": [],
   "source": [
    "cnn.add(tf.keras.layers.Conv2D(filters=32, kernel_size=3, activation='relu'))\n",
    "cnn.add(tf.keras.layers.MaxPool2D(pool_size=2, strides=2))"
   ]
  },
  {
   "cell_type": "code",
   "execution_count": 8,
   "id": "9a6001d4",
   "metadata": {},
   "outputs": [],
   "source": [
    "# Adding a third convolutional layer\n",
    "cnn.add(tf.keras.layers.Conv2D(filters=32, kernel_size=3, activation='relu'))\n",
    "cnn.add(tf.keras.layers.MaxPool2D(pool_size=2, strides=2))"
   ]
  },
  {
   "cell_type": "code",
   "execution_count": 9,
   "id": "bcf0f6e2",
   "metadata": {},
   "outputs": [],
   "source": [
    "cnn.add(tf.keras.layers.Flatten())"
   ]
  },
  {
   "cell_type": "code",
   "execution_count": 10,
   "id": "e007ac2d",
   "metadata": {},
   "outputs": [],
   "source": [
    "cnn.add(tf.keras.layers.Dense(units=50, activation='relu'))"
   ]
  },
  {
   "cell_type": "code",
   "execution_count": 11,
   "id": "63fe0e7b",
   "metadata": {},
   "outputs": [],
   "source": [
    "cnn.add(tf.keras.layers.Dense(units=1, activation='sigmoid'))"
   ]
  },
  {
   "cell_type": "code",
   "execution_count": 12,
   "id": "0c1095ce",
   "metadata": {},
   "outputs": [
    {
     "name": "stdout",
     "output_type": "stream",
     "text": [
      "Model: \"sequential\"\n",
      "_________________________________________________________________\n",
      " Layer (type)                Output Shape              Param #   \n",
      "=================================================================\n",
      " conv2d (Conv2D)             (None, 62, 62, 16)        448       \n",
      "                                                                 \n",
      " max_pooling2d (MaxPooling2D  (None, 31, 31, 16)       0         \n",
      " )                                                               \n",
      "                                                                 \n",
      " conv2d_1 (Conv2D)           (None, 29, 29, 32)        4640      \n",
      "                                                                 \n",
      " max_pooling2d_1 (MaxPooling  (None, 14, 14, 32)       0         \n",
      " 2D)                                                             \n",
      "                                                                 \n",
      " conv2d_2 (Conv2D)           (None, 12, 12, 32)        9248      \n",
      "                                                                 \n",
      " max_pooling2d_2 (MaxPooling  (None, 6, 6, 32)         0         \n",
      " 2D)                                                             \n",
      "                                                                 \n",
      " flatten (Flatten)           (None, 1152)              0         \n",
      "                                                                 \n",
      " dense (Dense)               (None, 50)                57650     \n",
      "                                                                 \n",
      " dense_1 (Dense)             (None, 1)                 51        \n",
      "                                                                 \n",
      "=================================================================\n",
      "Total params: 72,037\n",
      "Trainable params: 72,037\n",
      "Non-trainable params: 0\n",
      "_________________________________________________________________\n"
     ]
    }
   ],
   "source": [
    "cnn.summary()"
   ]
  },
  {
   "cell_type": "code",
   "execution_count": 13,
   "id": "643c3466",
   "metadata": {},
   "outputs": [],
   "source": [
    "cnn.compile(optimizer = 'adam', loss = 'binary_crossentropy', metrics = ['accuracy'])"
   ]
  },
  {
   "cell_type": "code",
   "execution_count": 14,
   "id": "fe5085de",
   "metadata": {},
   "outputs": [
    {
     "name": "stdout",
     "output_type": "stream",
     "text": [
      "Epoch 1/20\n",
      "10/10 [==============================] - 1s 65ms/step - loss: 0.6972 - accuracy: 0.5500 - val_loss: 0.6888 - val_accuracy: 0.5000\n",
      "Epoch 2/20\n",
      "10/10 [==============================] - 1s 54ms/step - loss: 0.6735 - accuracy: 0.5625 - val_loss: 0.6600 - val_accuracy: 0.7250\n",
      "Epoch 3/20\n",
      "10/10 [==============================] - 1s 54ms/step - loss: 0.6152 - accuracy: 0.7563 - val_loss: 0.5941 - val_accuracy: 0.7500\n",
      "Epoch 4/20\n",
      "10/10 [==============================] - 1s 57ms/step - loss: 0.5118 - accuracy: 0.7937 - val_loss: 0.4965 - val_accuracy: 0.8000\n",
      "Epoch 5/20\n",
      "10/10 [==============================] - 1s 54ms/step - loss: 0.4576 - accuracy: 0.7437 - val_loss: 0.4915 - val_accuracy: 0.7250\n",
      "Epoch 6/20\n",
      "10/10 [==============================] - 1s 52ms/step - loss: 0.4406 - accuracy: 0.8000 - val_loss: 0.4404 - val_accuracy: 0.8000\n",
      "Epoch 7/20\n",
      "10/10 [==============================] - 1s 56ms/step - loss: 0.3755 - accuracy: 0.8375 - val_loss: 0.4503 - val_accuracy: 0.9250\n",
      "Epoch 8/20\n",
      "10/10 [==============================] - 1s 51ms/step - loss: 0.3863 - accuracy: 0.8313 - val_loss: 0.4616 - val_accuracy: 0.7750\n",
      "Epoch 9/20\n",
      "10/10 [==============================] - 1s 55ms/step - loss: 0.3680 - accuracy: 0.8375 - val_loss: 0.4240 - val_accuracy: 0.8000\n",
      "Epoch 10/20\n",
      "10/10 [==============================] - 1s 63ms/step - loss: 0.3353 - accuracy: 0.8875 - val_loss: 0.4280 - val_accuracy: 0.8500\n",
      "Epoch 11/20\n",
      "10/10 [==============================] - 1s 53ms/step - loss: 0.3042 - accuracy: 0.8562 - val_loss: 0.4548 - val_accuracy: 0.8250\n",
      "Epoch 12/20\n",
      "10/10 [==============================] - 1s 54ms/step - loss: 0.3411 - accuracy: 0.8750 - val_loss: 0.4861 - val_accuracy: 0.8000\n",
      "Epoch 13/20\n",
      "10/10 [==============================] - 1s 55ms/step - loss: 0.3257 - accuracy: 0.8813 - val_loss: 0.5125 - val_accuracy: 0.8000\n",
      "Epoch 14/20\n",
      "10/10 [==============================] - 1s 52ms/step - loss: 0.2764 - accuracy: 0.8750 - val_loss: 0.4870 - val_accuracy: 0.8250\n",
      "Epoch 15/20\n",
      "10/10 [==============================] - 1s 53ms/step - loss: 0.2836 - accuracy: 0.8750 - val_loss: 0.4905 - val_accuracy: 0.8500\n",
      "Epoch 16/20\n",
      "10/10 [==============================] - 1s 63ms/step - loss: 0.2465 - accuracy: 0.8750 - val_loss: 0.5744 - val_accuracy: 0.8250\n",
      "Epoch 17/20\n",
      "10/10 [==============================] - 1s 61ms/step - loss: 0.2041 - accuracy: 0.9250 - val_loss: 0.5757 - val_accuracy: 0.8750\n",
      "Epoch 18/20\n",
      "10/10 [==============================] - 1s 64ms/step - loss: 0.2041 - accuracy: 0.9250 - val_loss: 0.6185 - val_accuracy: 0.8500\n",
      "Epoch 19/20\n",
      "10/10 [==============================] - 1s 59ms/step - loss: 0.1892 - accuracy: 0.9250 - val_loss: 0.6020 - val_accuracy: 0.8750\n",
      "Epoch 20/20\n",
      "10/10 [==============================] - 1s 55ms/step - loss: 0.2004 - accuracy: 0.9250 - val_loss: 0.6273 - val_accuracy: 0.8750\n"
     ]
    }
   ],
   "source": [
    "history_model=cnn.fit(x = training_set, validation_data = test_set, epochs = 20)"
   ]
  },
  {
   "cell_type": "code",
   "execution_count": 15,
   "id": "d6cae592",
   "metadata": {},
   "outputs": [
    {
     "data": {
      "image/png": "[encoded data removed]",
      "text/plain": [
       "<Figure size 432x288 with 1 Axes>"
      ]
     },
     "metadata": {
      "needs_background": "light"
     },
     "output_type": "display_data"
    },
    {
     "data": {
      "image/png": "[encoded data removed]",
      "text/plain": [
       "<Figure size 432x288 with 1 Axes>"
      ]
     },
     "metadata": {
      "needs_background": "light"
     },
     "output_type": "display_data"
    }
   ],
   "source": [
    "# Accuracy comparison\n",
    "import matplotlib.pyplot as plt\n",
    "\n",
    "plt.plot(history_model.history['accuracy'])\n",
    "plt.plot(history_model.history['val_accuracy'])\n",
    "plt.legend(['accuracy','val_accuracy'])\n",
    "plt.show()\n",
    "\n",
    "\n",
    "# Loss Comparison\n",
    "plt.plot(history_model.history['loss'])\n",
    "plt.plot(history_model.history['val_loss'])\n",
    "plt.legend(['loss','val_loss'])\n",
    "plt.show()"
   ]
  },
  {
   "cell_type": "code",
   "execution_count": 21,
   "id": "12f3266e",
   "metadata": {},
   "outputs": [],
   "source": [
    "import numpy as np\n",
    "from keras_preprocessing import image\n",
    "test_image = image.load_img('C:/Users/ADMIN/OneDrive/Desktop/C&B/Training/Cars/images (102).jpg', target_size = (64, 64))\n",
    "test_image = image.img_to_array(test_image)\n",
    "test_image = np.expand_dims(test_image, axis = 0)\n",
    "result = cnn.predict(test_image)\n",
    "training_set.class_indices\n",
    "if result[0][0] == 1:\n",
    "  prediction = 'car'\n",
    "else:\n",
    "  prediction = 'bike'"
   ]
  },
  {
   "cell_type": "code",
   "execution_count": 22,
   "id": "afc0ffe6",
   "metadata": {},
   "outputs": [
    {
     "name": "stdout",
     "output_type": "stream",
     "text": [
      "car\n"
     ]
    }
   ],
   "source": [
    "print(prediction)"
   ]
  },
  {
   "cell_type": "code",
   "execution_count": null,
   "id": "3d08be1a",
   "metadata": {},
   "outputs": [],
   "source": []
  }
 ],
 "metadata": {
  "kernelspec": {
   "display_name": "Python 3 (ipykernel)",
   "language": "python",
   "name": "python3"
  },
  "language_info": {
   "codemirror_mode": {
    "name": "ipython",
    "version": 3
   },
   "file_extension": ".py",
   "mimetype": "text/x-python",
   "name": "python",
   "nbconvert_exporter": "python",
   "pygments_lexer": "ipython3",
   "version": "3.9.7"
  }
 },
 "nbformat": 4,
 "nbformat_minor": 5
}
